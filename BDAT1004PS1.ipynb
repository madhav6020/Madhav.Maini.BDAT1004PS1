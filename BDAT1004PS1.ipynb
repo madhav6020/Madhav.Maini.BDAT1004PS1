{
 "cells": [
  {
   "cell_type": "markdown",
   "id": "0595dc15",
   "metadata": {},
   "source": [
    "# BDAT1004 PS - 1\n"
   ]
  },
  {
   "cell_type": "markdown",
   "id": "074275ac",
   "metadata": {},
   "source": [
    "## Question 1\n",
    "<b>What data type is each of the following (evaluate where necessary)?</b>\n",
    "<ol>\n",
    "<li>5</li>\n",
    "<li>5.0</li>\n",
    "<li>5 > 1</li>\n",
    "<li>'5'</li>\n",
    "<li>5 * 2</li>\n",
    "<li>'5' * 2</li>\n",
    "<li>'5' + '2'</li>\n",
    "<li>5 / 2</li>\n",
    "<li>5 % 2</li>\n",
    "<li>{5, 2, 1}</li>\n",
    "<li>5 == 3</li>\n",
    "<li>Pi (the number)</li>\n",
    "</ol>\n",
    "\n"
   ]
  },
  {
   "cell_type": "code",
   "execution_count": 1,
   "id": "a8b30ade",
   "metadata": {},
   "outputs": [
    {
     "name": "stdout",
     "output_type": "stream",
     "text": [
      "Data Type of 5 : <class 'int'>\n",
      "Data Type of 5.0 : <class 'float'>\n",
      "Data Type of 5 > 1 : <class 'bool'>\n",
      "Data Type of '5' : <class 'str'>\n",
      "Data Type of 5 * 2 : <class 'int'>\n",
      "Data Type of '5' * 2 : <class 'str'>\n",
      "Data Type of '5' + '2' : <class 'str'>\n",
      "Data Type of 5 / 2 : <class 'float'>\n",
      "Data Type of 5 % 2 : <class 'int'>\n",
      "Data Type of '{5, 2, 1}' : <class 'set'>\n",
      "Data Type of 5 == 3 : <class 'bool'>\n",
      "Data Type of math.pi : <class 'float'>\n"
     ]
    }
   ],
   "source": [
    "import math\n",
    "\n",
    "print(\"Data Type of 5 :\",type(5))  \n",
    "\n",
    "print(\"Data Type of 5.0 :\",type(5.0))  \n",
    "\n",
    "print(\"Data Type of 5 > 1 :\",type(5 > 1))  \n",
    "\n",
    "print(\"Data Type of '5' :\",type('5'))  \n",
    "\n",
    "print(\"Data Type of 5 * 2 :\",type(5 * 2))  \n",
    "\n",
    "print(\"Data Type of '5' * 2 :\",type('5' * 2))  \n",
    "\n",
    "print(\"Data Type of '5' + '2' :\",type('5' + '2'))  \n",
    "\n",
    "print(\"Data Type of 5 / 2 :\",type(5 / 2))  \n",
    "\n",
    "print(\"Data Type of 5 % 2 :\",type(5 % 2))  \n",
    "\n",
    "print(\"Data Type of '{5, 2, 1}' :\",type({5, 2, 1}))  \n",
    "\n",
    "print(\"Data Type of 5 == 3 :\",type(5 == 3))  \n",
    "\n",
    "print(\"Data Type of math.pi :\",type(math.pi))  \n"
   ]
  },
  {
   "cell_type": "markdown",
   "id": "7584bc82",
   "metadata": {},
   "source": [
    "## Question 2<br>\n",
    "<b>\n",
    "Write (and evaluate) python expressions that answer these questions:<br>\n",
    "1. How many letters are there in 'Supercalifragilisticexpialidocious'?<br>\n",
    "</b>"
   ]
  },
  {
   "cell_type": "code",
   "execution_count": 2,
   "id": "efb0e977",
   "metadata": {},
   "outputs": [
    {
     "name": "stdout",
     "output_type": "stream",
     "text": [
      "Letters in Supercalifragilisticexpialidocious : 34\n"
     ]
    }
   ],
   "source": [
    "# 1\n",
    "word = 'Supercalifragilisticexpialidocious'\n",
    "num_letters = len(word)\n",
    "print(\"Letters in Supercalifragilisticexpialidocious :\",num_letters)"
   ]
  },
  {
   "cell_type": "markdown",
   "id": "fc2e1391",
   "metadata": {},
   "source": [
    "<b>\n",
    "2. Does 'Supercalifragilisticexpialidocious' contain 'ice' as a substring?<br>\n",
    "</b>"
   ]
  },
  {
   "cell_type": "code",
   "execution_count": 3,
   "id": "5a883d10",
   "metadata": {},
   "outputs": [
    {
     "name": "stdout",
     "output_type": "stream",
     "text": [
      "True\n"
     ]
    }
   ],
   "source": [
    "# 2\n",
    "word = 'Supercalifragilisticexpialidocious'\n",
    "substring = 'ice'\n",
    "contains_substring = substring in word\n",
    "print(contains_substring)\n"
   ]
  },
  {
   "cell_type": "markdown",
   "id": "cec73676",
   "metadata": {},
   "source": [
    "<b>\n",
    "3. Which of the following words is the longest: Supercalifragilisticexpialidocious, Honorificabilitudinitatibus, or Bababadalgharaghtakamminarronnkonn?<br>\n",
    "</b>"
   ]
  },
  {
   "cell_type": "code",
   "execution_count": 4,
   "id": "057d5bb2",
   "metadata": {},
   "outputs": [
    {
     "name": "stdout",
     "output_type": "stream",
     "text": [
      "Longest Word :  Supercalifragilisticexpialidocious\n"
     ]
    }
   ],
   "source": [
    "words = ['Supercalifragilisticexpialidocious', 'Honorificabilitudinitatibus', 'Bababadalgharaghtakamminarronnkonn']\n",
    "longest_word = max(words, key=len)\n",
    "print(\"Longest Word : \",longest_word)\n"
   ]
  },
  {
   "cell_type": "markdown",
   "id": "cfcc50c0",
   "metadata": {},
   "source": [
    "<b>\n",
    "4. Which composer comes first in the dictionary: 'Berlioz', 'Borodin', 'Brian', 'Bartok', 'Bellini', 'Buxtehude', 'Bernstein'. Which one comes last?<br>\n",
    "</b>"
   ]
  },
  {
   "cell_type": "code",
   "execution_count": 1,
   "id": "cd2dfca6",
   "metadata": {},
   "outputs": [
    {
     "name": "stdout",
     "output_type": "stream",
     "text": [
      "First Composer :  Bartok\n",
      "Last Composer :  Buxtehude\n"
     ]
    }
   ],
   "source": [
    "composers = ['Berlioz', 'Borodin', 'Brian', 'Bartok', 'Bellini', 'Buxtehude', 'Bernstein']\n",
    "composers_sorted = sorted(composers)\n",
    "first_composer = composers_sorted[0]\n",
    "last_composer = composers_sorted[-1]\n",
    "print(\"First Composer : \",first_composer)\n",
    "print(\"Last Composer : \",last_composer)\n"
   ]
  },
  {
   "cell_type": "markdown",
   "id": "cd6d2083",
   "metadata": {},
   "source": [
    "## Question 3\n",
    "<b>Implement function triangleArea(a,b,c) that takes as input the lengths of the 3 sides of a triangle and returns the area of the triangle. By Heron's formula, the area of a triangle with side lengths a, b, and c is s(s - a)(s -b)(s -c), where s = (a+b+c)/2<br><br>\n",
    "triangleArea(2,2,2)</b>\n",
    "> 1.7320508075688772\n"
   ]
  },
  {
   "cell_type": "code",
   "execution_count": 2,
   "id": "cfe300e7",
   "metadata": {},
   "outputs": [
    {
     "name": "stdout",
     "output_type": "stream",
     "text": [
      "Enter the length of side a: 2\n",
      "Enter the length of side b: 2\n",
      "Enter the length of side c: 2\n",
      "The area of the triangle is: 1.7320508075688772\n"
     ]
    }
   ],
   "source": [
    "import math\n",
    "\n",
    "def triangleArea():\n",
    "    # Get user input for the lengths of the triangle sides\n",
    "    a = float(input(\"Enter the length of side a: \"))\n",
    "    b = float(input(\"Enter the length of side b: \"))\n",
    "    c = float(input(\"Enter the length of side c: \"))\n",
    "\n",
    "    # Calculate the semi-perimeter\n",
    "    s = (a + b + c) / 2\n",
    "\n",
    "    # Calculate the area using Heron's formula\n",
    "    area = math.sqrt(s * (s - a) * (s - b) * (s - c))\n",
    "\n",
    "    return area\n",
    "\n",
    "area = triangleArea()\n",
    "print(\"The area of the triangle is:\", area)\n"
   ]
  },
  {
   "cell_type": "markdown",
   "id": "1d75d582",
   "metadata": {},
   "source": [
    "## Question 4\n",
    "<b>Write a program in python to separate odd and even integers in separate arrays. Go to the editor<br> \n",
    "Test Data :<br> \n",
    "Input the number of elements to be stored in the array :5<br> \n",
    "Input 5 elements in the array :<br>\n",
    "element - 0 : 25 <br>\n",
    "element - 1 : 47 <br>\n",
    "element - 2 : 42 <br>\n",
    "element - 3 : 56 <br>\n",
    "element - 4 : 32 <br>\n",
    "Expected Output: <br>\n",
    "The Even elements are: 42 56 32<br> \n",
    "The Odd elements are : 25 47<br></b>"
   ]
  },
  {
   "cell_type": "code",
   "execution_count": 3,
   "id": "dcb87e37",
   "metadata": {},
   "outputs": [
    {
     "name": "stdout",
     "output_type": "stream",
     "text": [
      "Input the number of elements to be stored in the array: 5\n",
      "Element - 0 : 25\n",
      "Element - 1 : 47\n",
      "Element - 2 : 42\n",
      "Element - 3 : 56\n",
      "Element - 4 : 32\n",
      "The Even elements are: 42 56 32\n",
      "The Odd elements are: 25 47\n"
     ]
    }
   ],
   "source": [
    "def separateOddEven():\n",
    "    # Get the number of elements from the user\n",
    "    num_elements = int(input(\"Input the number of elements to be stored in the array: \"))\n",
    "\n",
    "    # Initialize empty arrays for odd and even elements\n",
    "    odd_elements = []\n",
    "    even_elements = []\n",
    "\n",
    "    # Get the elements from the user\n",
    "    for i in range(num_elements):\n",
    "        element = int(input(f\"Element - {i} : \"))\n",
    "        if element % 2 == 0:\n",
    "            even_elements.append(element)\n",
    "        else:\n",
    "            odd_elements.append(element)\n",
    "\n",
    "    # Print the separated odd and even elements\n",
    "    print(\"The Even elements are:\", \" \".join(map(str, even_elements)))\n",
    "    print(\"The Odd elements are:\", \" \".join(map(str, odd_elements)))\n",
    "\n",
    "\n",
    "# Call the function to execute the program\n",
    "separateOddEven()"
   ]
  },
  {
   "cell_type": "markdown",
   "id": "931f19a6",
   "metadata": {},
   "source": [
    "## Question 5 \n",
    "<b>a.  Write a function inside(x,y,x1,y1,x2,y2) that returns True or False depending on whether the point (x,y) lies in the rectangle with lower left corner (x1,y1) and upper right corner (x2,y2).</b><br>\n",
    "\n",
    "<b>inside(1,1,0,0,2,3)</b>\n",
    "> True\n",
    "\n",
    "<b>inside(-1,-1,0,0,2,3)</b>\n",
    "> False\n",
    "\n",
    "<b>b.  Use function inside() from part a. to write an expression that tests whether the point (1,1) lies in both of the following rectangles: one with lower left corner (0.3, 0.5) and upper right corner (1.1, 0.7) and the other with lower left corner (0.5, 0.2) and upper right corner (1.1, 2).</b>"
   ]
  },
  {
   "cell_type": "code",
   "execution_count": 8,
   "id": "8140b385",
   "metadata": {},
   "outputs": [
    {
     "name": "stdout",
     "output_type": "stream",
     "text": [
      "a. :- \n",
      "True\n",
      "False\n",
      "\n",
      "b. :- \n",
      "In the first rectangle: False\n",
      "In the second rectangle: True\n"
     ]
    }
   ],
   "source": [
    "def inside(x, y, x1, y1, x2, y2):\n",
    "    if x1 <= x <= x2 and y1 <= y <= y2:\n",
    "        return True\n",
    "    else:\n",
    "        return False\n",
    "\n",
    "\n",
    "# Test the function\n",
    "print(\"a. :- \")\n",
    "print(inside(1, 1, 0, 0, 2, 3))    \n",
    "print(inside(-1, -1, 0, 0, 2, 3))  \n",
    " \n",
    "\n",
    "print(\"\\nb. :- \")    \n",
    "# Check if (1, 1) lies in the first rectangle\n",
    "in_rectangle1 = inside(1, 1, 0.3, 0.5, 1.1, 0.7)\n",
    "print(\"In the first rectangle:\", in_rectangle1)\n",
    "\n",
    "# Check if (1, 1) lies in the second rectangle\n",
    "in_rectangle2 = inside(1, 1, 0.5, 0.2, 1.1, 2)\n",
    "print(\"In the second rectangle:\", in_rectangle2)"
   ]
  },
  {
   "cell_type": "markdown",
   "id": "672002ad",
   "metadata": {},
   "source": [
    "## Question 6\n",
    "<b> You can turn a word into pig-Latin using the following two rules (simplified):<br>\n",
    " • If the word starts with a consonant, move that letter to the end and append 'ay'. For example, 'happy' becomes 'appyhay' and 'pencil' becomes 'encilpay'.<br>\n",
    "• If the word starts with a vowel, simply append 'way' to the end of the word.<br>\n",
    "For example, 'enter' becomes 'enterway' and 'other' becomes 'otherway' . For our purposes, there are 5 vowels: a, e, i, o, u (so we count y as a consonant).<br>\n",
    "Write a function pig() that takes a word (i.e., a string) as input and returns its pigLatin form. Your function should still work if the input word contains upper case characters. Your output should always be lower case however.</b>\n",
    "\n",
    "<b>pig('happy')</b>\n",
    ">'appyhay'\n",
    "\n",
    "<b>pig('Enter')</b>\n",
    ">'enterway'"
   ]
  },
  {
   "cell_type": "code",
   "execution_count": 9,
   "id": "e1e198c3",
   "metadata": {},
   "outputs": [
    {
     "name": "stdout",
     "output_type": "stream",
     "text": [
      "happy in pigLatin Form :  appyhay\n",
      "Enter in pigLatin Form :  enterway\n"
     ]
    }
   ],
   "source": [
    "def pig(word):\n",
    "    # Convert the word to lowercase\n",
    "    word = word.lower()\n",
    "\n",
    "    # Check if the word starts with a vowel\n",
    "    vowels = ['a', 'e', 'i', 'o', 'u']\n",
    "    if word[0] in vowels:\n",
    "        pig_latin = word + 'way'\n",
    "    else:\n",
    "        pig_latin = word[1:] + word[0] + 'ay'\n",
    "\n",
    "    return pig_latin\n",
    "\n",
    "# Test the function\n",
    "print(\"happy in pigLatin Form : \",pig('happy'))  \n",
    "print(\"Enter in pigLatin Form : \",pig('Enter'))  "
   ]
  },
  {
   "cell_type": "markdown",
   "id": "653ae4cc",
   "metadata": {},
   "source": [
    "## Question 7\n",
    "<b>File bloodtype1.txt records blood-types of patients (A, B, AB, O or OO) at a clinic.<br>\n",
    "Write a function bldcount() that reads the file with name name and reports (i.e.prints) how many patients there are in each bloodtype.</b><br><br>\n",
    "<b>bldcount('bloodtype.txt')</b><br>\n",
    ">There are 10 patients of blood type A.<br>\n",
    ">There is one patient of blood type B.<br>\n",
    ">There are 10 patients of blood type AB.<br>\n",
    ">There are 12 patients of blood type O.<br>\n",
    ">There are no patients of blood type OO.<br>"
   ]
  },
  {
   "cell_type": "code",
   "execution_count": 4,
   "id": "e394bd70",
   "metadata": {},
   "outputs": [
    {
     "name": "stdout",
     "output_type": "stream",
     "text": [
      "There are 15 patients of blood type A.\n",
      "There is 1 patient of blood type B.\n",
      "There are 13 patients of blood type AB.\n",
      "There are 15 patients of blood type O.\n",
      "There are 0 patients of blood type OO.\n"
     ]
    }
   ],
   "source": [
    "def bldcount(filename):\n",
    "    # Initialize a dictionary to store the blood type counts\n",
    "    blood_counts = {'A': 0, 'B': 0, 'AB': 0, 'O': 0, 'OO': 0}\n",
    "\n",
    "    # Read the file and count the blood types\n",
    "    with open(filename, 'r') as file:\n",
    "        blood_data = file.read().split()\n",
    "        for blood_type in blood_data:\n",
    "            blood_counts[blood_type] += 1\n",
    "\n",
    "    # Print the blood type counts\n",
    "    for blood_type, count in blood_counts.items():\n",
    "        if count == 1:\n",
    "            print(f\"There is 1 patient of blood type {blood_type}.\")\n",
    "        else:\n",
    "            print(f\"There are {count} patients of blood type {blood_type}.\")\n",
    "\n",
    "# Test the function\n",
    "bldcount('bloodtype1.txt')\n"
   ]
  },
  {
   "cell_type": "markdown",
   "id": "6ccc8766",
   "metadata": {},
   "source": [
    "## Question 8\n",
    "<b>Write a function curconv() that takes as input:</b><br>\n",
    "<b>1. a currency represented using a string (e.g., 'JPY' for the Japanese Yen or 'EUR' for the Euro)</b><br>\n",
    "<b>2. an amount</b><br> \n",
    "<b>and then converts and returns the amount in US dollars.</b><br><br>\n",
    "<b>curconv('EUR', 100)</b>\n",
    ">122.96544\n",
    "\n",
    "<b>curconv('JPY', 100)</b>\n",
    ">1.241401\n",
    "\n",
    "<b>The currency rates you will need are stored in file currencies.txt</b>\n",
    "\n"
   ]
  },
  {
   "cell_type": "code",
   "execution_count": 17,
   "id": "241aa18f",
   "metadata": {},
   "outputs": [
    {
     "name": "stdout",
     "output_type": "stream",
     "text": [
      "100 Euros in US Currency 122.96544\n",
      "100 Yen in US Currency 1.241401\n"
     ]
    }
   ],
   "source": [
    "def curconv(currency, amount):\n",
    "    with open('currencies.txt', 'r') as file:\n",
    "        lines = file.readlines()\n",
    "        for line in lines:\n",
    "            parts = line.split()\n",
    "            if parts[0] == currency:\n",
    "                conversion_rate = float(parts[1])\n",
    "                us_dollars = conversion_rate * amount\n",
    "                return us_dollars\n",
    "\n",
    "\n",
    "print(\"100 Euros in US Currency\",curconv('EUR', 100))  \n",
    "print(\"100 Yen in US Currency\",curconv('JPY', 100))  \n"
   ]
  },
  {
   "cell_type": "markdown",
   "id": "4ab5e0bf",
   "metadata": {},
   "source": [
    "## Question 9\n",
    "<b>Each of the following will cause an exception (an error). Identify what type of exception each will cause.</b>\n",
    "<ol>\n",
    "<li>Trying to add incompatible variables, as in adding 6 + ‘a’</li>\n",
    "<li>Referring to the 12th item of a list that has only 10 items</li>\n",
    "<li>Using a value that is out of range for a function’s input, such as calling math.sqrt(-1.0)</li>\n",
    "<li>Using an undeclared variable, such as print(x) when x has not been defined</li>\n",
    "<li>Trying to open a file that does not exist, such as mistyping the file name or looking in the wrong directory.</li>\n",
    "</ol>"
   ]
  },
  {
   "cell_type": "code",
   "execution_count": 19,
   "id": "3174b380",
   "metadata": {},
   "outputs": [
    {
     "ename": "TypeError",
     "evalue": "unsupported operand type(s) for +: 'int' and 'str'",
     "output_type": "error",
     "traceback": [
      "\u001b[1;31m---------------------------------------------------------------------------\u001b[0m",
      "\u001b[1;31mTypeError\u001b[0m                                 Traceback (most recent call last)",
      "\u001b[1;32m~\\AppData\\Local\\Temp\\ipykernel_25968\\1798534818.py\u001b[0m in \u001b[0;36m<module>\u001b[1;34m\u001b[0m\n\u001b[0;32m      1\u001b[0m \u001b[1;31m# 1\u001b[0m\u001b[1;33m\u001b[0m\u001b[1;33m\u001b[0m\u001b[0m\n\u001b[1;32m----> 2\u001b[1;33m \u001b[1;36m6\u001b[0m \u001b[1;33m+\u001b[0m \u001b[1;34m'a'\u001b[0m\u001b[1;33m\u001b[0m\u001b[1;33m\u001b[0m\u001b[0m\n\u001b[0m",
      "\u001b[1;31mTypeError\u001b[0m: unsupported operand type(s) for +: 'int' and 'str'"
     ]
    }
   ],
   "source": [
    "# 1\n",
    "6 + 'a'\n"
   ]
  },
  {
   "cell_type": "code",
   "execution_count": 20,
   "id": "fa36aa83",
   "metadata": {},
   "outputs": [
    {
     "ename": "IndexError",
     "evalue": "list index out of range",
     "output_type": "error",
     "traceback": [
      "\u001b[1;31m---------------------------------------------------------------------------\u001b[0m",
      "\u001b[1;31mIndexError\u001b[0m                                Traceback (most recent call last)",
      "\u001b[1;32m~\\AppData\\Local\\Temp\\ipykernel_25968\\2850339829.py\u001b[0m in \u001b[0;36m<module>\u001b[1;34m\u001b[0m\n\u001b[0;32m      1\u001b[0m \u001b[1;31m# 2\u001b[0m\u001b[1;33m\u001b[0m\u001b[1;33m\u001b[0m\u001b[0m\n\u001b[0;32m      2\u001b[0m \u001b[0mmy_list\u001b[0m \u001b[1;33m=\u001b[0m \u001b[1;33m[\u001b[0m\u001b[1;36m1\u001b[0m\u001b[1;33m,\u001b[0m \u001b[1;36m2\u001b[0m\u001b[1;33m,\u001b[0m \u001b[1;36m3\u001b[0m\u001b[1;33m,\u001b[0m \u001b[1;36m4\u001b[0m\u001b[1;33m,\u001b[0m \u001b[1;36m5\u001b[0m\u001b[1;33m,\u001b[0m \u001b[1;36m6\u001b[0m\u001b[1;33m,\u001b[0m \u001b[1;36m7\u001b[0m\u001b[1;33m,\u001b[0m \u001b[1;36m8\u001b[0m\u001b[1;33m,\u001b[0m \u001b[1;36m9\u001b[0m\u001b[1;33m,\u001b[0m \u001b[1;36m10\u001b[0m\u001b[1;33m]\u001b[0m\u001b[1;33m\u001b[0m\u001b[1;33m\u001b[0m\u001b[0m\n\u001b[1;32m----> 3\u001b[1;33m \u001b[0mitem\u001b[0m \u001b[1;33m=\u001b[0m \u001b[0mmy_list\u001b[0m\u001b[1;33m[\u001b[0m\u001b[1;36m11\u001b[0m\u001b[1;33m]\u001b[0m\u001b[1;33m\u001b[0m\u001b[1;33m\u001b[0m\u001b[0m\n\u001b[0m",
      "\u001b[1;31mIndexError\u001b[0m: list index out of range"
     ]
    }
   ],
   "source": [
    "# 2\n",
    "my_list = [1, 2, 3, 4, 5, 6, 7, 8, 9, 10]\n",
    "item = my_list[11]"
   ]
  },
  {
   "cell_type": "code",
   "execution_count": 21,
   "id": "4cc476cc",
   "metadata": {},
   "outputs": [
    {
     "ename": "ValueError",
     "evalue": "math domain error",
     "output_type": "error",
     "traceback": [
      "\u001b[1;31m---------------------------------------------------------------------------\u001b[0m",
      "\u001b[1;31mValueError\u001b[0m                                Traceback (most recent call last)",
      "\u001b[1;32m~\\AppData\\Local\\Temp\\ipykernel_25968\\3828196109.py\u001b[0m in \u001b[0;36m<module>\u001b[1;34m\u001b[0m\n\u001b[0;32m      1\u001b[0m \u001b[1;31m# 3\u001b[0m\u001b[1;33m\u001b[0m\u001b[1;33m\u001b[0m\u001b[0m\n\u001b[0;32m      2\u001b[0m \u001b[1;32mimport\u001b[0m \u001b[0mmath\u001b[0m\u001b[1;33m\u001b[0m\u001b[1;33m\u001b[0m\u001b[0m\n\u001b[1;32m----> 3\u001b[1;33m \u001b[0mresult\u001b[0m \u001b[1;33m=\u001b[0m \u001b[0mmath\u001b[0m\u001b[1;33m.\u001b[0m\u001b[0msqrt\u001b[0m\u001b[1;33m(\u001b[0m\u001b[1;33m-\u001b[0m\u001b[1;36m1.0\u001b[0m\u001b[1;33m)\u001b[0m\u001b[1;33m\u001b[0m\u001b[1;33m\u001b[0m\u001b[0m\n\u001b[0m",
      "\u001b[1;31mValueError\u001b[0m: math domain error"
     ]
    }
   ],
   "source": [
    "# 3\n",
    "import math\n",
    "result = math.sqrt(-1.0)"
   ]
  },
  {
   "cell_type": "code",
   "execution_count": 22,
   "id": "e8aaa2f5",
   "metadata": {},
   "outputs": [
    {
     "ename": "NameError",
     "evalue": "name 'x' is not defined",
     "output_type": "error",
     "traceback": [
      "\u001b[1;31m---------------------------------------------------------------------------\u001b[0m",
      "\u001b[1;31mNameError\u001b[0m                                 Traceback (most recent call last)",
      "\u001b[1;32m~\\AppData\\Local\\Temp\\ipykernel_25968\\1348649610.py\u001b[0m in \u001b[0;36m<module>\u001b[1;34m\u001b[0m\n\u001b[0;32m      1\u001b[0m \u001b[1;31m# 4\u001b[0m\u001b[1;33m\u001b[0m\u001b[1;33m\u001b[0m\u001b[0m\n\u001b[1;32m----> 2\u001b[1;33m \u001b[0mprint\u001b[0m\u001b[1;33m(\u001b[0m\u001b[0mx\u001b[0m\u001b[1;33m)\u001b[0m\u001b[1;33m\u001b[0m\u001b[1;33m\u001b[0m\u001b[0m\n\u001b[0m",
      "\u001b[1;31mNameError\u001b[0m: name 'x' is not defined"
     ]
    }
   ],
   "source": [
    "# 4\n",
    "print(x)"
   ]
  },
  {
   "cell_type": "code",
   "execution_count": 23,
   "id": "91f2289b",
   "metadata": {},
   "outputs": [
    {
     "ename": "FileNotFoundError",
     "evalue": "[Errno 2] No such file or directory: 'nonexistent_file.txt'",
     "output_type": "error",
     "traceback": [
      "\u001b[1;31m---------------------------------------------------------------------------\u001b[0m",
      "\u001b[1;31mFileNotFoundError\u001b[0m                         Traceback (most recent call last)",
      "\u001b[1;32m~\\AppData\\Local\\Temp\\ipykernel_25968\\4224877761.py\u001b[0m in \u001b[0;36m<module>\u001b[1;34m\u001b[0m\n\u001b[0;32m      1\u001b[0m \u001b[1;31m# 5\u001b[0m\u001b[1;33m\u001b[0m\u001b[1;33m\u001b[0m\u001b[0m\n\u001b[1;32m----> 2\u001b[1;33m \u001b[0mfile\u001b[0m \u001b[1;33m=\u001b[0m \u001b[0mopen\u001b[0m\u001b[1;33m(\u001b[0m\u001b[1;34m'nonexistent_file.txt'\u001b[0m\u001b[1;33m,\u001b[0m \u001b[1;34m'r'\u001b[0m\u001b[1;33m)\u001b[0m\u001b[1;33m\u001b[0m\u001b[1;33m\u001b[0m\u001b[0m\n\u001b[0m",
      "\u001b[1;31mFileNotFoundError\u001b[0m: [Errno 2] No such file or directory: 'nonexistent_file.txt'"
     ]
    }
   ],
   "source": [
    "# 5\n",
    "file = open('nonexistent_file.txt', 'r')"
   ]
  },
  {
   "cell_type": "markdown",
   "id": "6c52c350",
   "metadata": {},
   "source": [
    "## Question 10\n",
    "<b>Encryption is the process of hiding the meaning of a text by substituting letters in the message with other letters, according to some system. If the process is successful, no one but the intended recipient can understand the encrypted message. Cryptanalysis refers to attempts to undo the encryption, even if some details of the encryption are unknown (for example, if an encrypted message has been intercepted). The first step of cryptanalysis is often to build up a table of letter frequencies in the encrypted text. Assume that the string letters is already defined as 'abcdefghijklmnopqrstuvwxyz'. Write a function called frequencies() that takes a string as its only parameter, and returns a list of integers, showing the number of times each character appears in the text. Your function may ignore any characters that are not in letters.</b><br>\n",
    "\n",
    "<b>frequencies('The quick red fox got bored and went home.')</b>\n",
    ">[1, 1, 1, 3, 5, 1, 1, 2, 1, 0, 1, 0, 1, 2, 4, 0, 1, 2, 0, 2, 1, 0, 1, 1, 0, 0]\n",
    "\n",
    "<b>frequencies('apple')</b>"
   ]
  },
  {
   "cell_type": "code",
   "execution_count": 24,
   "id": "e4492e0c",
   "metadata": {},
   "outputs": [
    {
     "name": "stdout",
     "output_type": "stream",
     "text": [
      "Encryption of The quick red fox got bored and went home : [1, 1, 1, 3, 5, 1, 1, 2, 1, 0, 1, 0, 1, 2, 4, 0, 1, 2, 0, 3, 1, 0, 1, 1, 0, 0]\n",
      "Encryption of apple : [1, 0, 0, 0, 1, 0, 0, 0, 0, 0, 0, 1, 0, 0, 0, 2, 0, 0, 0, 0, 0, 0, 0, 0, 0, 0]\n"
     ]
    }
   ],
   "source": [
    "def frequencies(text):\n",
    "    letters = 'abcdefghijklmnopqrstuvwxyz'\n",
    "    freq_dict = {letter: 0 for letter in letters}\n",
    "\n",
    "    for char in text.lower():\n",
    "        if char in freq_dict:\n",
    "            freq_dict[char] += 1\n",
    "\n",
    "    freq_list = [freq_dict[letter] for letter in letters]\n",
    "    return freq_list\n",
    "\n",
    "\n",
    "print(\"Encryption of The quick red fox got bored and went home :\",frequencies('The quick red fox got bored and went home.'))\n",
    "\n",
    "print(\"Encryption of apple :\",frequencies('apple'))\n",
    "\n"
   ]
  },
  {
   "cell_type": "code",
   "execution_count": null,
   "id": "49971c7f",
   "metadata": {},
   "outputs": [],
   "source": []
  }
 ],
 "metadata": {
  "kernelspec": {
   "display_name": "Python 3 (ipykernel)",
   "language": "python",
   "name": "python3"
  },
  "language_info": {
   "codemirror_mode": {
    "name": "ipython",
    "version": 3
   },
   "file_extension": ".py",
   "mimetype": "text/x-python",
   "name": "python",
   "nbconvert_exporter": "python",
   "pygments_lexer": "ipython3",
   "version": "3.9.13"
  }
 },
 "nbformat": 4,
 "nbformat_minor": 5
}
